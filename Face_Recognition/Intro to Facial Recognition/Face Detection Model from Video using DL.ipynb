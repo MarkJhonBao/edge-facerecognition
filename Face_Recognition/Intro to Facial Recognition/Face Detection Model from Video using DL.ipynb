{
 "cells": [
  {
   "cell_type": "markdown",
   "metadata": {},
   "source": [
    "## Software setup\n",
    "---"
   ]
  },
  {
   "cell_type": "code",
   "execution_count": 6,
   "metadata": {},
   "outputs": [
    {
     "name": "stdout",
     "output_type": "stream",
     "text": [
      "Requirement already satisfied: opencv-python in /usr/local/lib/python3.6/site-packages (4.1.0.25)\n",
      "Requirement already satisfied: numpy>=1.11.3 in /usr/local/lib/python3.6/site-packages (from opencv-python) (1.16.4)\n",
      "Requirement already satisfied: dlib in /usr/local/lib/python3.6/site-packages (19.17.0)\n",
      "Requirement already satisfied: face_recognition in /usr/local/lib/python3.6/site-packages (1.2.3)\n",
      "Requirement already satisfied: dlib>=19.7 in /usr/local/lib/python3.6/site-packages (from face_recognition) (19.17.0)\n",
      "Requirement already satisfied: Pillow in /usr/local/lib/python3.6/site-packages (from face_recognition) (6.1.0)\n",
      "Requirement already satisfied: Click>=6.0 in /usr/local/lib/python3.6/site-packages (from face_recognition) (7.0)\n",
      "Requirement already satisfied: numpy in /usr/local/lib/python3.6/site-packages (from face_recognition) (1.16.4)\n",
      "Requirement already satisfied: face-recognition-models>=0.3.0 in /usr/local/lib/python3.6/site-packages (from face_recognition) (0.3.0)\n"
     ]
    }
   ],
   "source": [
    "!pip3 install opencv-python\n",
    "!pip3 install dlib\n",
    "!pip3 install face_recognition"
   ]
  },
  {
   "cell_type": "markdown",
   "metadata": {},
   "source": [
    "## Implementation\n",
    "---"
   ]
  },
  {
   "cell_type": "code",
   "execution_count": null,
   "metadata": {},
   "outputs": [],
   "source": [
    "#import libraries\n",
    "import cv2\n",
    "import face_recognition\n",
    "\n",
    "#read video and get lenght\n",
    "input_video = cv2.VideoCapture(\"zendaya.mp4\")\n",
    "lenght = int(input_video.get(cv2.CAP_PROP_FRAME_COUNT))\n",
    "\n",
    "#load sample image of the person that will be identified\n",
    "image = face_recognition.load_image_file(\"images/zendaya.jpg\")\n",
    "#get face encoding\n",
    "face_encoding = face_recognition.face_encoding(image)[0]\n",
    "known_faces = [\n",
    "    face_encoding,\n",
    "]\n",
    "\n",
    "'''now we need to extract frames, find and identify faces\n",
    "and lastly create a new video combining the original frame\n",
    "with the location of the face of the person annotated'''\n",
    "\n",
    "face_locations = []\n",
    "face_encodings = []\n",
    "face_names = []\n",
    "frame_number = 0\n",
    "\n",
    "while True:\n",
    "    #grab single frame\n",
    "    ret, frame = input_video.read()\n",
    "    frame_number += 1\n",
    "    \n",
    "    #quit when video ends\n",
    "    if not ret:\n",
    "        break\n",
    "    \n",
    "    #convert from BGR (what OpenCV uses) to RGB (what face_rec uses)\n",
    "    rgb_frame = frame[:, :, ::-1]\n",
    "    \n",
    "    #find all the faces and encodings in the current frame\n",
    "    face_locations = face_recognition.face_locations(rgb_frame, model=\"cnn\")\n",
    "    face_encodings = face_recognition.face_encodings(rgb_frame, face_locations)\n",
    "    \n",
    "    face_name = []\n",
    "    for face_encoding in face_encodings:\n",
    "        #see if the face is a match for the known face(s)\n",
    "        match = face_recognition.compare_faces(known_faces, face_encoding, tolerance=0.5)\n",
    "        \n",
    "        name = None\n",
    "        if match[0]:\n",
    "            name = \"Zendaya\"\n",
    "            \n",
    "        face_names.append(name)\n",
    "        \n",
    "        #label the results\n",
    "        for (top, right, bottom, left), name in zip(face_locations, face_names):\n",
    "            if not name:\n",
    "                continue\n",
    "                \n",
    "        #draw a boc around the face\n",
    "        cv2.rectangle(frame, (left, top), (right, bottom), (0,0,255),2)\n",
    "        \n",
    "        #draw a label with the name below the face\n",
    "        cv2.rectangle(frame, (left, bottom - 25), (right, bottom), (0,0,255), cv2.FILLED)\n",
    "        font = cv2.FONT_HERSHEY_DUPLEX\n",
    "        cv2.putText(frame, name, (left + 6, bottom - 6), font, 0.5, (255,255,255),1)\n",
    "        \n",
    "        #write the resulting image to the output video file\n",
    "        print(\"Writing frame {} / {}\".format(frame_number, lenght))\n",
    "        output_video.write(frame)\n",
    "        \n",
    "input_film.release()\n",
    "cv2.destroyAllWindows()"
   ]
  },
  {
   "cell_type": "code",
   "execution_count": 1,
   "metadata": {},
   "outputs": [],
   "source": [
    "import cv2\n",
    "import face_recognition"
   ]
  },
  {
   "cell_type": "code",
   "execution_count": 2,
   "metadata": {},
   "outputs": [],
   "source": [
    "input_video = cv2.VideoCapture(\"zendaya.mp4\")"
   ]
  },
  {
   "cell_type": "code",
   "execution_count": 3,
   "metadata": {},
   "outputs": [],
   "source": [
    "length = int(input_video.get(cv2.CAP_PROP_FRAME_COUNT))"
   ]
  },
  {
   "cell_type": "code",
   "execution_count": 4,
   "metadata": {},
   "outputs": [
    {
     "name": "stdout",
     "output_type": "stream",
     "text": [
      "17549\n"
     ]
    }
   ],
   "source": [
    "print(length)"
   ]
  },
  {
   "cell_type": "code",
   "execution_count": 12,
   "metadata": {},
   "outputs": [],
   "source": [
    "fps = round(input_video.get(cv2.CAP_PROP_FPS))"
   ]
  },
  {
   "cell_type": "code",
   "execution_count": 13,
   "metadata": {},
   "outputs": [
    {
     "name": "stdout",
     "output_type": "stream",
     "text": [
      "24\n"
     ]
    }
   ],
   "source": [
    "print(fps)"
   ]
  },
  {
   "cell_type": "code",
   "execution_count": null,
   "metadata": {},
   "outputs": [],
   "source": []
  }
 ],
 "metadata": {
  "kernelspec": {
   "display_name": "Python 3",
   "language": "python",
   "name": "python3"
  },
  "language_info": {
   "codemirror_mode": {
    "name": "ipython",
    "version": 3
   },
   "file_extension": ".py",
   "mimetype": "text/x-python",
   "name": "python",
   "nbconvert_exporter": "python",
   "pygments_lexer": "ipython3",
   "version": "3.6.5"
  }
 },
 "nbformat": 4,
 "nbformat_minor": 2
}
