{
  "nbformat": 4,
  "nbformat_minor": 0,
  "metadata": {
    "colab": {
      "name": "Keras_to_TFLite.ipynb",
      "version": "0.3.2",
      "provenance": [],
      "collapsed_sections": []
    },
    "language_info": {
      "codemirror_mode": {
        "name": "ipython",
        "version": 3
      },
      "file_extension": ".py",
      "mimetype": "text/x-python",
      "name": "python",
      "nbconvert_exporter": "python",
      "pygments_lexer": "ipython3",
      "version": "3.6.5"
    },
    "kernelspec": {
      "name": "python3",
      "display_name": "Python 3"
    },
    "accelerator": "GPU"
  },
  "cells": [
    {
      "cell_type": "markdown",
      "metadata": {
        "id": "3ebiSh74fC4Q",
        "colab_type": "text"
      },
      "source": [
        "# How to create model for the Coral TPU"
      ]
    },
    {
      "cell_type": "markdown",
      "metadata": {
        "id": "9jpbyfbFgRXj",
        "colab_type": "text"
      },
      "source": [
        "Link to notebook on Google Colab:\n",
        "https://colab.research.google.com/drive/1K8cm79ztfgNyt_ZnF22W83759J2lHBHh"
      ]
    },
    {
      "cell_type": "code",
      "metadata": {
        "id": "1xB-hFPdcgd-",
        "colab_type": "code",
        "colab": {
          "base_uri": "https://localhost:8080/",
          "height": 451
        },
        "outputId": "ffb17906-a3b3-4c2b-a8ed-60826b5d5dcc"
      },
      "source": [
        "!echo \"deb https://packages.cloud.google.com/apt coral-edgetpu-stable main\" | sudo tee /etc/apt/sources.list.d/coral-edgetpu.list\n",
        "!sudo apt-key adv --keyserver keyserver.ubuntu.com --recv-keys 6A030B21BA07F4FB\n",
        "\n",
        "!sudo apt update > /dev/null\n",
        "!sudo apt install edgetpu > /dev/null"
      ],
      "execution_count": 1,
      "outputs": [
        {
          "output_type": "stream",
          "text": [
            "deb https://packages.cloud.google.com/apt coral-edgetpu-stable main\n",
            "Executing: /tmp/apt-key-gpghome.PlNFIbP3Ab/gpg.1.sh --keyserver keyserver.ubuntu.com --recv-keys 6A030B21BA07F4FB\n",
            "gpg: key 6A030B21BA07F4FB: public key \"Google Cloud Packages Automatic Signing Key <gc-team@google.com>\" imported\n",
            "gpg: Total number processed: 1\n",
            "gpg:               imported: 1\n",
            "\n",
            "WARNING: apt does not have a stable CLI interface. Use with caution in scripts.\n",
            "\n",
            "\n",
            "WARNING: apt does not have a stable CLI interface. Use with caution in scripts.\n",
            "\n",
            "debconf: unable to initialize frontend: Dialog\n",
            "debconf: (No usable dialog-like program is installed, so the dialog based frontend cannot be used. at /usr/share/perl5/Debconf/FrontEnd/Dialog.pm line 76, <> line 5.)\n",
            "debconf: falling back to frontend: Readline\n",
            "debconf: unable to initialize frontend: Readline\n",
            "debconf: (This frontend requires a controlling tty.)\n",
            "debconf: falling back to frontend: Teletype\n",
            "dpkg-preconfigure: unable to re-open stdin: \n"
          ],
          "name": "stdout"
        }
      ]
    },
    {
      "cell_type": "code",
      "metadata": {
        "id": "nvEX78R4cgeI",
        "colab_type": "code",
        "colab": {
          "base_uri": "https://localhost:8080/",
          "height": 34
        },
        "outputId": "a4c2f750-7168-40a5-fe60-22b0983d9fca"
      },
      "source": [
        "import tensorflow as tf\n",
        "import keras\n",
        "import numpy as np\n",
        "import cv2\n",
        "\n",
        "from keras.datasets import mnist\n",
        "from keras.utils import to_categorical"
      ],
      "execution_count": 2,
      "outputs": [
        {
          "output_type": "stream",
          "text": [
            "Using TensorFlow backend.\n"
          ],
          "name": "stderr"
        }
      ]
    },
    {
      "cell_type": "code",
      "metadata": {
        "id": "vC0X_MgecgeO",
        "colab_type": "code",
        "colab": {}
      },
      "source": [
        "#loading mnist data\n",
        "(train_images, train_labels), (test_images, test_labels) = mnist.load_data()\n",
        "\n",
        "#feature scaling and normalization\n",
        "train_images = train_images.reshape((60000, 28, 28, 1)).astype('float32') / 255.0\n",
        "train_labels = to_categorical(train_labels)\n",
        "\n",
        "test_images = test_images.reshape((10000, 28, 28, 1)).astype('float32') / 255.0\n",
        "test_labels = to_categorical(test_labels)\n",
        "\n",
        "#set the shape to 28 as current shape is (60000, 28, 28, 1)\n",
        "input_shape = (train_images.shape[1])"
      ],
      "execution_count": 0,
      "outputs": []
    },
    {
      "cell_type": "code",
      "metadata": {
        "id": "2-2dU4w7cgeR",
        "colab_type": "code",
        "colab": {}
      },
      "source": [
        "#build the model\n",
        "\n",
        "def build_keras_model():\n",
        "    return keras.Sequential([\n",
        "        keras.layers.Conv2D(32, (3,3), activation='relu', input_shape=(28,28,1)),\n",
        "        keras.layers.MaxPooling2D((2,2)),\n",
        "        keras.layers.Conv2D(64, (3,3), activation='relu'),\n",
        "        keras.layers.MaxPooling2D((2,2)),\n",
        "        keras.layers.Conv2D(64, (3,3), activation='relu'),\n",
        "        keras.layers.Flatten(),\n",
        "        keras.layers.Dense(64, activation='relu'),\n",
        "        keras.layers.Dense(10, activation='softmax')\n",
        "    ])"
      ],
      "execution_count": 0,
      "outputs": []
    },
    {
      "cell_type": "markdown",
      "metadata": {
        "id": "FSzDMAFJcgeU",
        "colab_type": "text"
      },
      "source": [
        "## Graphs and Sessions\n",
        "\n",
        "TensorFlow uses a **dataflow graph** to represent your computation in terms of the dependencies between individual operations. This leads to a low-level programming model in which you first define the dataflow graph, then create a TensorFlow **session** to run parts of the graph across a set of local and remote devices."
      ]
    },
    {
      "cell_type": "markdown",
      "metadata": {
        "id": "XgWoWMBWcgeV",
        "colab_type": "text"
      },
      "source": [
        "## Quantization in Deep Learning\n",
        "\n",
        "* Enables efficient high-perfomance deep learning computation on small devices.\n",
        "* Can be defined as a method to bring the neural network to a reasonable size, while also achieving high performance accuracy.\n",
        "* Therefore, it is the process of approximating a neural network that uses floating-point numbers by a neural network of low bit width numbers, reducing dramatically both the memory requirement and computational cost of using neural networks.\n",
        "* The neural network **can** be quantized after training is finished. However, the most effective method for retaining high accuracy is to quantize during training.\n",
        "\n",
        "More information can be found: https://medium.com/@joel_34050/quantization-in-deep-learning-478417eab72b"
      ]
    },
    {
      "cell_type": "code",
      "metadata": {
        "id": "QJ3xavkgcgeW",
        "colab_type": "code",
        "colab": {
          "base_uri": "https://localhost:8080/",
          "height": 1000
        },
        "outputId": "72d792ac-a600-4528-fd6d-cce7cdf12a71"
      },
      "source": [
        "train_graph = tf.Graph()\n",
        "train_sess = tf.Session(graph=train_graph)\n",
        "\n",
        "keras.backend.set_session(train_sess)\n",
        "with train_graph.as_default():\n",
        "    train_model = build_keras_model()\n",
        "    \n",
        "    '''quant_delay: Number of steps after which weights and activations are\n",
        "    quantized during training.\n",
        "    \n",
        "    The default value of quant_delay is suitable for finetuning an already trained\n",
        "    floating point model (recommended).\n",
        "    If one wants to train a quantized model from scratch, quant_delay should be\n",
        "    set to the number of steps it take the floating point model to converge.'''\n",
        "    tf.contrib.quantize.create_training_graph(input_graph=train_graph, quant_delay=100)\n",
        "    train_sess.run(tf.global_variables_initializer())\n",
        "    \n",
        "    #compile the model after being quantized\n",
        "    train_model.compile(\n",
        "        optimizer='adam',\n",
        "        loss='categorical_crossentropy',\n",
        "        metrics=['accuracy']\n",
        "    )\n",
        "    #execute training\n",
        "    train_model.fit(train_images, train_labels, epochs=1)\n",
        "    \n",
        "    #save graph and checkpoints\n",
        "    saver = tf.train.Saver()\n",
        "    saver.save(train_sess, 'checkpoints')"
      ],
      "execution_count": 17,
      "outputs": [
        {
          "output_type": "stream",
          "text": [
            "Epoch 1/1\n",
            "60000/60000 [==============================] - 29s 475us/step - loss: 0.1452 - acc: 0.9556\n"
          ],
          "name": "stdout"
        }
      ]
    },
    {
      "cell_type": "code",
      "metadata": {
        "id": "rLLYapADcgea",
        "colab_type": "code",
        "colab": {
          "base_uri": "https://localhost:8080/",
          "height": 108
        },
        "outputId": "8837a0d8-da4f-484d-d749-1a0f39d0e7eb"
      },
      "source": [
        "#predict a sample\n",
        "with train_graph.as_default():\n",
        "    print('Sample result of original model:')\n",
        "    print(train_model.predict(test_images[:1]))"
      ],
      "execution_count": 18,
      "outputs": [
        {
          "output_type": "stream",
          "text": [
            "Sample result of original model:\n",
            "[[6.7921526e-08 1.0675574e-07 4.4519779e-06 9.5344333e-08 1.6287174e-09\n",
            "  3.8594742e-08 3.6363954e-12 9.9999487e-01 7.9284330e-09 3.7020737e-07]]\n"
          ],
          "name": "stdout"
        }
      ]
    },
    {
      "cell_type": "code",
      "metadata": {
        "id": "kf70j8LOcgee",
        "colab_type": "code",
        "colab": {}
      },
      "source": [
        "#Evaluate the model\n",
        "eval_graph = tf.Graph()\n",
        "eval_sess = tf.Session(graph=eval_graph)\n",
        "\n",
        "keras.backend.set_session(eval_sess)\n",
        "\n",
        "with eval_graph.as_default():\n",
        "    keras.backend.set_learning_phase(0)\n",
        "    eval_model = build_keras_model()\n",
        "    tf.contrib.quantize.create_eval_graph(input_graph=eval_graph)\n",
        "    eval_graph_def = eval_graph.as_graph_def()\n",
        "    saver = tf.train.Saver()\n",
        "    saver.restore(eval_sess, 'checkpoints')\n",
        "    \n",
        "    #Freeze the graph\n",
        "    frozen_graph_def = tf.compat.v1.graph_util.convert_variables_to_constants(\n",
        "        eval_sess,\n",
        "        eval_graph_def,\n",
        "        [eval_model.output.op.name]\n",
        "    )\n",
        "    \n",
        "    #WB stands for: writing truncating the file first and in binary mode\n",
        "    with open('frozen_model.pb', 'wb') as f:\n",
        "        f.write(frozen_graph_def.SerializeToString())"
      ],
      "execution_count": 0,
      "outputs": []
    },
    {
      "cell_type": "code",
      "metadata": {
        "id": "wZrtonWacgeg",
        "colab_type": "code",
        "colab": {
          "base_uri": "https://localhost:8080/",
          "height": 408
        },
        "outputId": "ce059108-6a72-4c9c-fb91-c94bdd52ddbb"
      },
      "source": [
        "#Summary of the model\n",
        "train_model.summary()"
      ],
      "execution_count": 20,
      "outputs": [
        {
          "output_type": "stream",
          "text": [
            "_________________________________________________________________\n",
            "Layer (type)                 Output Shape              Param #   \n",
            "=================================================================\n",
            "conv2d_1 (Conv2D)            (None, 26, 26, 32)        320       \n",
            "_________________________________________________________________\n",
            "max_pooling2d_1 (MaxPooling2 (None, 13, 13, 32)        0         \n",
            "_________________________________________________________________\n",
            "conv2d_2 (Conv2D)            (None, 11, 11, 64)        18496     \n",
            "_________________________________________________________________\n",
            "max_pooling2d_2 (MaxPooling2 (None, 5, 5, 64)          0         \n",
            "_________________________________________________________________\n",
            "conv2d_3 (Conv2D)            (None, 3, 3, 64)          36928     \n",
            "_________________________________________________________________\n",
            "flatten_1 (Flatten)          (None, 576)               0         \n",
            "_________________________________________________________________\n",
            "dense_1 (Dense)              (None, 64)                36928     \n",
            "_________________________________________________________________\n",
            "dense_2 (Dense)              (None, 10)                650       \n",
            "=================================================================\n",
            "Total params: 93,322\n",
            "Trainable params: 93,322\n",
            "Non-trainable params: 0\n",
            "_________________________________________________________________\n"
          ],
          "name": "stdout"
        }
      ]
    },
    {
      "cell_type": "code",
      "metadata": {
        "id": "fgSDlKHEcgen",
        "colab_type": "code",
        "colab": {
          "base_uri": "https://localhost:8080/",
          "height": 788
        },
        "outputId": "1764c6bf-1828-40f9-d662-1fb3ab85b2ec"
      },
      "source": [
        "#Convert the file to TFLite format\n",
        "%%bash\n",
        "\n",
        "tflite_convert \\\n",
        "    --output_file=test_model.tflite \\\n",
        "    --graph_def_file=frozen_model.pb \\\n",
        "    --inference_type=QUANTIZED_UINT8 \\\n",
        "    --input_arrays=conv2d_1_input \\\n",
        "    --output_arrays=dense_2/Softmax \\\n",
        "    --mean_values=0 \\\n",
        "    --std_dev_values=255"
      ],
      "execution_count": 28,
      "outputs": [
        {
          "output_type": "stream",
          "text": [
            "2019-07-11 14:40:30.299445: I tensorflow/stream_executor/platform/default/dso_loader.cc:42] Successfully opened dynamic library libcuda.so.1\n",
            "2019-07-11 14:40:30.302261: I tensorflow/stream_executor/cuda/cuda_gpu_executor.cc:1005] successful NUMA node read from SysFS had negative value (-1), but there must be at least one NUMA node, so returning NUMA node zero\n",
            "2019-07-11 14:40:30.302822: I tensorflow/core/common_runtime/gpu/gpu_device.cc:1640] Found device 0 with properties: \n",
            "name: Tesla K80 major: 3 minor: 7 memoryClockRate(GHz): 0.8235\n",
            "pciBusID: 0000:00:04.0\n",
            "2019-07-11 14:40:30.303124: I tensorflow/stream_executor/platform/default/dso_loader.cc:42] Successfully opened dynamic library libcudart.so.10.0\n",
            "2019-07-11 14:40:30.304368: I tensorflow/stream_executor/platform/default/dso_loader.cc:42] Successfully opened dynamic library libcublas.so.10.0\n",
            "2019-07-11 14:40:30.305756: I tensorflow/stream_executor/platform/default/dso_loader.cc:42] Successfully opened dynamic library libcufft.so.10.0\n",
            "2019-07-11 14:40:30.306150: I tensorflow/stream_executor/platform/default/dso_loader.cc:42] Successfully opened dynamic library libcurand.so.10.0\n",
            "2019-07-11 14:40:30.307942: I tensorflow/stream_executor/platform/default/dso_loader.cc:42] Successfully opened dynamic library libcusolver.so.10.0\n",
            "2019-07-11 14:40:30.309502: I tensorflow/stream_executor/platform/default/dso_loader.cc:42] Successfully opened dynamic library libcusparse.so.10.0\n",
            "2019-07-11 14:40:30.313480: I tensorflow/stream_executor/platform/default/dso_loader.cc:42] Successfully opened dynamic library libcudnn.so.7\n",
            "2019-07-11 14:40:30.313634: I tensorflow/stream_executor/cuda/cuda_gpu_executor.cc:1005] successful NUMA node read from SysFS had negative value (-1), but there must be at least one NUMA node, so returning NUMA node zero\n",
            "2019-07-11 14:40:30.314074: I tensorflow/stream_executor/cuda/cuda_gpu_executor.cc:1005] successful NUMA node read from SysFS had negative value (-1), but there must be at least one NUMA node, so returning NUMA node zero\n",
            "2019-07-11 14:40:30.314481: I tensorflow/core/common_runtime/gpu/gpu_device.cc:1763] Adding visible gpu devices: 0\n",
            "2019-07-11 14:40:30.320094: I tensorflow/core/platform/profile_utils/cpu_utils.cc:94] CPU Frequency: 2300000000 Hz\n",
            "2019-07-11 14:40:30.320340: I tensorflow/compiler/xla/service/service.cc:168] XLA service 0x55b04f7afd40 executing computations on platform Host. Devices:\n",
            "2019-07-11 14:40:30.320368: I tensorflow/compiler/xla/service/service.cc:175]   StreamExecutor device (0): <undefined>, <undefined>\n",
            "2019-07-11 14:40:30.381949: I tensorflow/stream_executor/cuda/cuda_gpu_executor.cc:1005] successful NUMA node read from SysFS had negative value (-1), but there must be at least one NUMA node, so returning NUMA node zero\n",
            "2019-07-11 14:40:30.382585: I tensorflow/compiler/xla/service/service.cc:168] XLA service 0x55b053fd8540 executing computations on platform CUDA. Devices:\n",
            "2019-07-11 14:40:30.382638: I tensorflow/compiler/xla/service/service.cc:175]   StreamExecutor device (0): Tesla K80, Compute Capability 3.7\n",
            "2019-07-11 14:40:30.382870: I tensorflow/stream_executor/cuda/cuda_gpu_executor.cc:1005] successful NUMA node read from SysFS had negative value (-1), but there must be at least one NUMA node, so returning NUMA node zero\n",
            "2019-07-11 14:40:30.383265: I tensorflow/core/common_runtime/gpu/gpu_device.cc:1640] Found device 0 with properties: \n",
            "name: Tesla K80 major: 3 minor: 7 memoryClockRate(GHz): 0.8235\n",
            "pciBusID: 0000:00:04.0\n",
            "2019-07-11 14:40:30.383332: I tensorflow/stream_executor/platform/default/dso_loader.cc:42] Successfully opened dynamic library libcudart.so.10.0\n",
            "2019-07-11 14:40:30.383366: I tensorflow/stream_executor/platform/default/dso_loader.cc:42] Successfully opened dynamic library libcublas.so.10.0\n",
            "2019-07-11 14:40:30.383426: I tensorflow/stream_executor/platform/default/dso_loader.cc:42] Successfully opened dynamic library libcufft.so.10.0\n",
            "2019-07-11 14:40:30.383456: I tensorflow/stream_executor/platform/default/dso_loader.cc:42] Successfully opened dynamic library libcurand.so.10.0\n",
            "2019-07-11 14:40:30.383484: I tensorflow/stream_executor/platform/default/dso_loader.cc:42] Successfully opened dynamic library libcusolver.so.10.0\n",
            "2019-07-11 14:40:30.383518: I tensorflow/stream_executor/platform/default/dso_loader.cc:42] Successfully opened dynamic library libcusparse.so.10.0\n",
            "2019-07-11 14:40:30.383554: I tensorflow/stream_executor/platform/default/dso_loader.cc:42] Successfully opened dynamic library libcudnn.so.7\n",
            "2019-07-11 14:40:30.383678: I tensorflow/stream_executor/cuda/cuda_gpu_executor.cc:1005] successful NUMA node read from SysFS had negative value (-1), but there must be at least one NUMA node, so returning NUMA node zero\n",
            "2019-07-11 14:40:30.384112: I tensorflow/stream_executor/cuda/cuda_gpu_executor.cc:1005] successful NUMA node read from SysFS had negative value (-1), but there must be at least one NUMA node, so returning NUMA node zero\n",
            "2019-07-11 14:40:30.384489: I tensorflow/core/common_runtime/gpu/gpu_device.cc:1763] Adding visible gpu devices: 0\n",
            "2019-07-11 14:40:30.384553: I tensorflow/stream_executor/platform/default/dso_loader.cc:42] Successfully opened dynamic library libcudart.so.10.0\n",
            "2019-07-11 14:40:30.385562: I tensorflow/core/common_runtime/gpu/gpu_device.cc:1181] Device interconnect StreamExecutor with strength 1 edge matrix:\n",
            "2019-07-11 14:40:30.385613: I tensorflow/core/common_runtime/gpu/gpu_device.cc:1187]      0 \n",
            "2019-07-11 14:40:30.385632: I tensorflow/core/common_runtime/gpu/gpu_device.cc:1200] 0:   N \n",
            "2019-07-11 14:40:30.386017: I tensorflow/stream_executor/cuda/cuda_gpu_executor.cc:1005] successful NUMA node read from SysFS had negative value (-1), but there must be at least one NUMA node, so returning NUMA node zero\n",
            "2019-07-11 14:40:30.386502: I tensorflow/stream_executor/cuda/cuda_gpu_executor.cc:1005] successful NUMA node read from SysFS had negative value (-1), but there must be at least one NUMA node, so returning NUMA node zero\n",
            "2019-07-11 14:40:30.386914: W tensorflow/core/common_runtime/gpu/gpu_bfc_allocator.cc:40] Overriding allow_growth setting because the TF_FORCE_GPU_ALLOW_GROWTH environment variable is set. Original config value was 0.\n",
            "2019-07-11 14:40:30.387016: I tensorflow/core/common_runtime/gpu/gpu_device.cc:1326] Created TensorFlow device (/job:localhost/replica:0/task:0/device:GPU:0 with 10478 MB memory) -> physical GPU (device: 0, name: Tesla K80, pci bus id: 0000:00:04.0, compute capability: 3.7)\n"
          ],
          "name": "stderr"
        }
      ]
    },
    {
      "cell_type": "code",
      "metadata": {
        "id": "iSMUmBMlcgeq",
        "colab_type": "code",
        "colab": {
          "base_uri": "https://localhost:8080/",
          "height": 91
        },
        "outputId": "7cd6786c-2296-4981-c3da-04a98dafadd9"
      },
      "source": [
        "# load TFLite file\n",
        "interpreter = tf.lite.Interpreter(model_path=f'test_model.tflite')\n",
        "# Allocate memory\n",
        "interpreter.allocate_tensors()\n",
        "\n",
        "#Get some information\n",
        "input_details = interpreter.get_input_details()\n",
        "output_details = interpreter.get_output_details()\n",
        "\n",
        "print(input_details)\n",
        "\n",
        "print(output_details)"
      ],
      "execution_count": 29,
      "outputs": [
        {
          "output_type": "stream",
          "text": [
            "[{'name': 'conv2d_1_input', 'index': 3, 'shape': array([ 1, 28, 28,  1], dtype=int32), 'dtype': <class 'numpy.uint8'>, 'quantization': (0.003921568859368563, 0)}]\n",
            "[{'name': 'dense_2/Softmax', 'index': 15, 'shape': array([ 1, 10], dtype=int32), 'dtype': <class 'numpy.uint8'>, 'quantization': (0.00390625, 0)}]\n"
          ],
          "name": "stdout"
        }
      ]
    },
    {
      "cell_type": "code",
      "metadata": {
        "id": "n8L0Y8gJd1j7",
        "colab_type": "code",
        "colab": {
          "base_uri": "https://localhost:8080/",
          "height": 318
        },
        "outputId": "a6d4a3a9-cad2-4fa9-934d-f0171f139540"
      },
      "source": [
        "!edgetpu_compiler 'test_model.tflite'"
      ],
      "execution_count": 30,
      "outputs": [
        {
          "output_type": "stream",
          "text": [
            "Edge TPU Compiler version 1.0.249710469\n",
            "INFO: Initialized TensorFlow Lite runtime.\n",
            "\n",
            "Model compiled successfully in 59 ms.\n",
            "\n",
            "Input model: test_model.tflite\n",
            "Input size: 95.28KiB\n",
            "Output model: test_model_edgetpu.tflite\n",
            "Output size: 172.56KiB\n",
            "On-chip memory available for caching model parameters: 7.95MiB\n",
            "On-chip memory used for caching model parameters: 97.50KiB\n",
            "Off-chip memory used for streaming uncached model parameters: 0.00B\n",
            "Number of Edge TPU subgraphs: 1\n",
            "Total number of operations: 8\n",
            "Operation log: test_model_edgetpu.log\n",
            "See the operation log file for individual operation details.\n"
          ],
          "name": "stdout"
        }
      ]
    },
    {
      "cell_type": "code",
      "metadata": {
        "id": "HNDpWR76eBle",
        "colab_type": "code",
        "colab": {}
      },
      "source": [
        "#Download file\n",
        "from google.colab import files\n",
        "\n",
        "files.download('test_model_edgetpu.tflite')"
      ],
      "execution_count": 0,
      "outputs": []
    }
  ]
}
